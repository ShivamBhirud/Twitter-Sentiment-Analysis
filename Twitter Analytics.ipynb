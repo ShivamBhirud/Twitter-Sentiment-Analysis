{
 "cells": [
  {
   "cell_type": "code",
   "execution_count": 44,
   "metadata": {},
   "outputs": [
    {
     "name": "stdout",
     "output_type": "stream",
     "text": [
      "Total positive tweets are: 51.1% \n",
      "Total negative tweets are: 14.8% \n",
      "Total neutral tweets are: 34.1% \n"
     ]
    }
   ],
   "source": [
    "import pandas as pd\n",
    "import numpy as np\n",
    "from textblob import TextBlob \n",
    "import re\n",
    "\n",
    "\n",
    "positive = 0\n",
    "negative = 0\n",
    "neutral = 0\n",
    "df = pd.read_csv(\"test_tweets_anuFYb8.csv\")\n",
    "data = df['tweet']\n",
    "\n",
    "for i in data:\n",
    "    # Utility function to clean tweet text by removing links, special characters using simple regex statements. \n",
    "    tweet = ' '.join(re.sub(\"(@[A-Za-z0-9]+)|([^0-9A-Za-z \\t])|(\\w+:\\/\\/\\S+)\", \" \", str(i)).split())\n",
    "    # Perform Sentiment Analysis\n",
    "    analysis = TextBlob(tweet)\n",
    "    if(analysis.sentiment.polarity > 0):\n",
    "        positive += 1\n",
    "    elif(analysis.sentiment.polarity == 0): \n",
    "        neutral += 1\n",
    "    else:\n",
    "        negative += 1\n",
    "\n",
    "print(\"Total positive tweets are: {:.1f}% \".format((positive/len(data))*100))\n",
    "print(\"Total negative tweets are: {:.1f}% \".format((negative/len(data))*100))\n",
    "print(\"Total neutral tweets are: {:.1f}% \".format((neutral/len(data))*100))\n"
   ]
  }
 ],
 "metadata": {
  "kernelspec": {
   "display_name": "Python 3",
   "language": "python",
   "name": "python3"
  },
  "language_info": {
   "codemirror_mode": {
    "name": "ipython",
    "version": 3
   },
   "file_extension": ".py",
   "mimetype": "text/x-python",
   "name": "python",
   "nbconvert_exporter": "python",
   "pygments_lexer": "ipython3",
   "version": "3.7.4"
  }
 },
 "nbformat": 4,
 "nbformat_minor": 2
}
